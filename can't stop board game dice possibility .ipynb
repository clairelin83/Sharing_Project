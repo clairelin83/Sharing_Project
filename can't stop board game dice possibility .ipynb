{
 "cells": [
  {
   "cell_type": "code",
   "execution_count": 105,
   "id": "specialized-visiting",
   "metadata": {},
   "outputs": [],
   "source": [
    "import matplotlib.pyplot as plt\n",
    "import pandas as pd"
   ]
  },
  {
   "cell_type": "code",
   "execution_count": 106,
   "id": "arctic-assignment",
   "metadata": {},
   "outputs": [],
   "source": [
    "d = {}"
   ]
  },
  {
   "cell_type": "code",
   "execution_count": 107,
   "id": "brazilian-immune",
   "metadata": {},
   "outputs": [],
   "source": [
    "n = 0 \n",
    "for i in range(1,7):\n",
    "    for j in range(1,7):\n",
    "        for k in range(1,7):\n",
    "            for l in range(1,7):\n",
    "                n = n+1\n",
    "                #print(n,\":\",i,  \",\"  ,j,  \",\"  ,k,  \",\",l)\n",
    "                d[n] = [i,j,k,l]"
   ]
  },
  {
   "cell_type": "code",
   "execution_count": 108,
   "id": "billion-flexibility",
   "metadata": {},
   "outputs": [],
   "source": [
    "#d"
   ]
  },
  {
   "cell_type": "code",
   "execution_count": 109,
   "id": "monthly-stamp",
   "metadata": {},
   "outputs": [],
   "source": [
    "df = pd.DataFrame()\n",
    "df['line']=  range(2,13)\n",
    "df['possibility'] = 0"
   ]
  },
  {
   "cell_type": "code",
   "execution_count": 110,
   "id": "supreme-wayne",
   "metadata": {
    "scrolled": true
   },
   "outputs": [
    {
     "name": "stdout",
     "output_type": "stream",
     "text": [
      "2 : 171 , 0.13194444444444445\n",
      "3 : 302 , 0.2330246913580247\n",
      "4 : 461 , 0.3557098765432099\n",
      "5 : 580 , 0.44753086419753085\n",
      "6 : 727 , 0.5609567901234568\n",
      "7 : 834 , 0.6435185185185185\n",
      "8 : 727 , 0.5609567901234568\n",
      "9 : 580 , 0.44753086419753085\n",
      "10 : 461 , 0.3557098765432099\n",
      "11 : 302 , 0.2330246913580247\n",
      "12 : 171 , 0.13194444444444445\n"
     ]
    }
   ],
   "source": [
    "ls = []\n",
    "ls2 = [ ]\n",
    "for a in range(2,13):\n",
    "    m = 0 \n",
    "    for i in d.keys():\n",
    "        if (d[i][0]+d[i][1]) == a:\n",
    "            m += 1\n",
    "        elif (d[i][1]+d[i][2]) == a:\n",
    "            m += 1\n",
    "        elif (d[i][2]+d[i][3]) == a:\n",
    "            m += 1\n",
    "        elif (d[i][0]+d[i][3]) == a:\n",
    "            m += 1\n",
    "        elif (d[i][0]+d[i][2]) == a:\n",
    "            m += 1\n",
    "        elif (d[i][1]+d[i][3]) == a:\n",
    "            m += 1\n",
    "        else:\n",
    "            pass\n",
    "    print (a,\":\",m,',',m/ max(d.keys()))  \n",
    "    ls.append(m/ max(d.keys()))\n",
    "    ls2.append(m)\n",
    "    #df['posibility'][a-2]\n",
    "        \n"
   ]
  },
  {
   "cell_type": "code",
   "execution_count": 111,
   "id": "earlier-chicago",
   "metadata": {},
   "outputs": [],
   "source": [
    "df['possibility'] = ls \n",
    "df['possibility']\n",
    "\n",
    "df['number'] = ls2"
   ]
  },
  {
   "cell_type": "code",
   "execution_count": 112,
   "id": "funny-burning",
   "metadata": {},
   "outputs": [
    {
     "data": {
      "text/plain": [
       "[0.13194444444444445,\n",
       " 0.2330246913580247,\n",
       " 0.3557098765432099,\n",
       " 0.44753086419753085,\n",
       " 0.5609567901234568,\n",
       " 0.6435185185185185,\n",
       " 0.5609567901234568,\n",
       " 0.44753086419753085,\n",
       " 0.3557098765432099,\n",
       " 0.2330246913580247,\n",
       " 0.13194444444444445]"
      ]
     },
     "execution_count": 112,
     "metadata": {},
     "output_type": "execute_result"
    }
   ],
   "source": [
    "ls"
   ]
  },
  {
   "cell_type": "code",
   "execution_count": 113,
   "id": "falling-onion",
   "metadata": {},
   "outputs": [
    {
     "data": {
      "text/html": [
       "<div>\n",
       "<style scoped>\n",
       "    .dataframe tbody tr th:only-of-type {\n",
       "        vertical-align: middle;\n",
       "    }\n",
       "\n",
       "    .dataframe tbody tr th {\n",
       "        vertical-align: top;\n",
       "    }\n",
       "\n",
       "    .dataframe thead th {\n",
       "        text-align: right;\n",
       "    }\n",
       "</style>\n",
       "<table border=\"1\" class=\"dataframe\">\n",
       "  <thead>\n",
       "    <tr style=\"text-align: right;\">\n",
       "      <th></th>\n",
       "      <th>line</th>\n",
       "      <th>possibility</th>\n",
       "      <th>number</th>\n",
       "    </tr>\n",
       "  </thead>\n",
       "  <tbody>\n",
       "    <tr>\n",
       "      <th>0</th>\n",
       "      <td>2</td>\n",
       "      <td>0.131944</td>\n",
       "      <td>171</td>\n",
       "    </tr>\n",
       "    <tr>\n",
       "      <th>1</th>\n",
       "      <td>3</td>\n",
       "      <td>0.233025</td>\n",
       "      <td>302</td>\n",
       "    </tr>\n",
       "    <tr>\n",
       "      <th>2</th>\n",
       "      <td>4</td>\n",
       "      <td>0.355710</td>\n",
       "      <td>461</td>\n",
       "    </tr>\n",
       "    <tr>\n",
       "      <th>3</th>\n",
       "      <td>5</td>\n",
       "      <td>0.447531</td>\n",
       "      <td>580</td>\n",
       "    </tr>\n",
       "    <tr>\n",
       "      <th>4</th>\n",
       "      <td>6</td>\n",
       "      <td>0.560957</td>\n",
       "      <td>727</td>\n",
       "    </tr>\n",
       "    <tr>\n",
       "      <th>5</th>\n",
       "      <td>7</td>\n",
       "      <td>0.643519</td>\n",
       "      <td>834</td>\n",
       "    </tr>\n",
       "    <tr>\n",
       "      <th>6</th>\n",
       "      <td>8</td>\n",
       "      <td>0.560957</td>\n",
       "      <td>727</td>\n",
       "    </tr>\n",
       "    <tr>\n",
       "      <th>7</th>\n",
       "      <td>9</td>\n",
       "      <td>0.447531</td>\n",
       "      <td>580</td>\n",
       "    </tr>\n",
       "    <tr>\n",
       "      <th>8</th>\n",
       "      <td>10</td>\n",
       "      <td>0.355710</td>\n",
       "      <td>461</td>\n",
       "    </tr>\n",
       "    <tr>\n",
       "      <th>9</th>\n",
       "      <td>11</td>\n",
       "      <td>0.233025</td>\n",
       "      <td>302</td>\n",
       "    </tr>\n",
       "    <tr>\n",
       "      <th>10</th>\n",
       "      <td>12</td>\n",
       "      <td>0.131944</td>\n",
       "      <td>171</td>\n",
       "    </tr>\n",
       "  </tbody>\n",
       "</table>\n",
       "</div>"
      ],
      "text/plain": [
       "    line  possibility  number\n",
       "0      2     0.131944     171\n",
       "1      3     0.233025     302\n",
       "2      4     0.355710     461\n",
       "3      5     0.447531     580\n",
       "4      6     0.560957     727\n",
       "5      7     0.643519     834\n",
       "6      8     0.560957     727\n",
       "7      9     0.447531     580\n",
       "8     10     0.355710     461\n",
       "9     11     0.233025     302\n",
       "10    12     0.131944     171"
      ]
     },
     "execution_count": 113,
     "metadata": {},
     "output_type": "execute_result"
    }
   ],
   "source": [
    "df"
   ]
  },
  {
   "cell_type": "code",
   "execution_count": 115,
   "id": "powered-keyboard",
   "metadata": {},
   "outputs": [
    {
     "data": {
      "image/png": "[encoded data removed]",
      "text/plain": [
       "<Figure size 432x288 with 1 Axes>"
      ]
     },
     "metadata": {
      "needs_background": "light"
     },
     "output_type": "display_data"
    }
   ],
   "source": [
    "df.reset_index(drop=True, inplace=True)\n",
    "\n",
    "plt.bar(df['line'],df['possibility'])\n",
    "\n",
    "plt.ylim(0,0.7)\n",
    "\n",
    "for a,b in zip(df['line'],df['possibility']):\n",
    "\n",
    "    plt.text(a, b+0.01, '%.0f' % (b*100) +'%', ha='center', va= 'bottom',fontsize=8)"
   ]
  },
  {
   "cell_type": "code",
   "execution_count": null,
   "id": "interstate-guidance",
   "metadata": {},
   "outputs": [],
   "source": []
  }
 ],
 "metadata": {
  "kernelspec": {
   "display_name": "Python 3",
   "language": "python",
   "name": "python3"
  },
  "language_info": {
   "codemirror_mode": {
    "name": "ipython",
    "version": 3
   },
   "file_extension": ".py",
   "mimetype": "text/x-python",
   "name": "python",
   "nbconvert_exporter": "python",
   "pygments_lexer": "ipython3",
   "version": "3.7.9"
  }
 },
 "nbformat": 4,
 "nbformat_minor": 5
}
